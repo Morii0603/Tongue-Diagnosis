{
 "cells": [
  {
   "cell_type": "code",
   "execution_count": null,
   "metadata": {},
   "outputs": [],
   "source": [
    "import torch, torchvision\n",
    "import torch.nn as nn\n",
    "import numpy as np\n",
    "import pandas as pd\n",
    "from sklearn.model_selection import train_test_split\n",
    "from torch.utils.data import DataLoader\n",
    "from sklearn.metrics import roc_auc_score\n",
    "from build_model import ResNet50, ResNet101, Swin_T\n",
    "from engine import MyTrainer\n",
    "from read_data import TongueDataset"
   ]
  },
  {
   "cell_type": "code",
   "execution_count": null,
   "metadata": {},
   "outputs": [],
   "source": [
    "epochs = 20\n",
    "\n",
    "device = torch.device(\"cuda\" if torch.cuda.is_available() else \"cpu\")\n",
    "data = pd.read_excel(\"Shexiang-2024-06.23.xlsx\")\n",
    "\n",
    "\n",
    "train_data, test_data = train_test_split(data, test_size=0.1,random_state=42)\n",
    "train_data, val_data = train_test_split(train_data, test_size=0.125,random_state=42)\n",
    "train_dataset = TongueDataset(train_data, transform=TongueDataset.get_tranforms(train=True))\n",
    "val_dataset = TongueDataset(val_data, transform=TongueDataset.get_tranforms(train=False))\n",
    "test_dataset = TongueDataset(test_data, transform=TongueDataset.get_tranforms(train=False))\n",
    "\n",
    "train_loader = DataLoader(dataset=train_dataset,batch_size=64,shuffle=False)\n",
    "val_loader = DataLoader(dataset=val_dataset,batch_size=64,shuffle=False)\n",
    "test_loader = DataLoader(dataset=val_dataset,batch_size=64,shuffle=False)\n",
    "\n",
    "\n",
    "\n",
    "net = ResNet50(out_features=1, pretrained=True)\n",
    "net = net.to(device)\n",
    "net.load_state_dict(torch.load(\"checkpoints/best.pth\"))\n",
    "\n",
    "\n",
    "criterion = nn.BCELoss()\n"
   ]
  },
  {
   "cell_type": "code",
   "execution_count": null,
   "metadata": {},
   "outputs": [],
   "source": [
    "val_outputs = []\n",
    "val_labels = []\n",
    "net.eval()\n",
    "with torch.no_grad():\n",
    "\n",
    "    for images, targets in test_loader:\n",
    "        images, targets = images.to(device),targets.to(device)\n",
    "        outputs = net(images)\n",
    "\n",
    "        val_outputs.extend(outputs.squeeze().detach().cpu().numpy().tolist())\n",
    "        val_labels.extend(targets.squeeze().detach().cpu().numpy().tolist())\n",
    "\n"
   ]
  },
  {
   "cell_type": "code",
   "execution_count": null,
   "metadata": {},
   "outputs": [],
   "source": [
    "from sklearn.calibration import calibration_curve\n",
    "import matplotlib.pyplot as plt\n",
    "# 假设的y_pred和y_label数组\n",
    "\n",
    "# 计算校准曲线\n",
    "prob_true, prob_pred = calibration_curve(val_labels, val_outputs, n_bins=10)\n",
    "# 绘制校准曲线\n",
    "plt.figure(figsize=(10, 5))\n",
    "plt.plot(prob_pred, prob_true, marker='o', linestyle='-', color='b')\n",
    "plt.plot([0, 1], [0, 1], linestyle='--', color='r')  # 对角线\n",
    "plt.xlabel('预测概率')\n",
    "plt.ylabel('实际阳性比例')\n",
    "plt.title('校准曲线')\n",
    "plt.show()"
   ]
  },
  {
   "cell_type": "code",
   "execution_count": null,
   "metadata": {},
   "outputs": [],
   "source": [
    "from sklearn.metrics import roc_curve, auc\n",
    "fpr, tpr, _ = roc_curve(val_labels, val_outputs)  # 假设你的目标变量是二分类问题，并且正类标签为1\n",
    "roc_auc = auc(fpr, tpr)\n",
    "\n",
    "# 绘制ROC曲线\n",
    "plt.figure()\n",
    "plt.plot(fpr, tpr, color='darkorange', lw=2, label='ROC curve (area = %0.2f)' % roc_auc)\n",
    "plt.plot([0, 1], [0, 1], color='navy', lw=2, linestyle='--')\n",
    "plt.xlim([0.0, 1.0])\n",
    "plt.ylim([0.0, 1.05])\n",
    "plt.xlabel('False Positive Rate')\n",
    "plt.ylabel('True Positive Rate')\n",
    "plt.title('Receiver Operating Characteristic')\n",
    "plt.legend(loc=\"lower right\")\n",
    "plt.show()"
   ]
  },
  {
   "cell_type": "code",
   "execution_count": null,
   "metadata": {},
   "outputs": [],
   "source": [
    "import numpy as np\n",
    "from sklearn.metrics import classification_report\n",
    "outputs_np = np.array(val_outputs)\n",
    "outputs_np[outputs_np>=0.5] = 1\n",
    "outputs_np[outputs_np<0.5] = 0\n",
    "labels_np = np.array(val_labels)\n",
    "print(classification_report(labels_np, outputs_np))"
   ]
  }
 ],
 "metadata": {
  "kernelspec": {
   "display_name": "pytorch",
   "language": "python",
   "name": "python3"
  },
  "language_info": {
   "codemirror_mode": {
    "name": "ipython",
    "version": 3
   },
   "file_extension": ".py",
   "mimetype": "text/x-python",
   "name": "python",
   "nbconvert_exporter": "python",
   "pygments_lexer": "ipython3",
   "version": "3.11.8"
  }
 },
 "nbformat": 4,
 "nbformat_minor": 2
}
